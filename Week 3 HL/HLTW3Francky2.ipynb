{
 "metadata": {
  "language_info": {
   "codemirror_mode": {
    "name": "ipython",
    "version": 3
   },
   "file_extension": ".py",
   "mimetype": "text/x-python",
   "name": "python",
   "nbconvert_exporter": "python",
   "pygments_lexer": "ipython3",
   "version": "3.9.4"
  },
  "orig_nbformat": 2,
  "kernelspec": {
   "name": "python394jvsc74a57bd071ca7bb33420e5af597533d33abfc83a8213e099b977db95951e7907983ff1c1",
   "display_name": "Python 3.9.4 64-bit"
  },
  "metadata": {
   "interpreter": {
    "hash": "71ca7bb33420e5af597533d33abfc83a8213e099b977db95951e7907983ff1c1"
   }
  }
 },
 "nbformat": 4,
 "nbformat_minor": 2,
 "cells": [
  {
   "cell_type": "code",
   "execution_count": 6,
   "metadata": {},
   "outputs": [],
   "source": [
    "def mark_grade(mark):\n",
    "    if mark <= 100:\n",
    "        mark_grade = \"B\"\n",
    "        print(\"B\")\n",
    "    elif mark <= 200:\n",
    "        mark_grade = \"A\"\n",
    "        print(\"A\")\n",
    "    return mark_grade"
   ]
  },
  {
   "cell_type": "code",
   "execution_count": 9,
   "metadata": {},
   "outputs": [
    {
     "output_type": "stream",
     "name": "stdout",
     "text": [
      "Mike\n",
      "199\n",
      "A\n",
      "185\n",
      "Good\n"
     ]
    }
   ],
   "source": [
    "name = input(\"What is your name?\")\n",
    "print(name)\n",
    "mark = int(input(\"what mark did you get?\"))\n",
    "print(mark)\n",
    "grade = mark_grade(mark)\n",
    "target = int(input(\"What was your target mark?\"))\n",
    "print(target)\n",
    "if target == mark:\n",
    "    print(\"Good job\", name, \", you managed to get the grade you expected!\")\n",
    "elif target <= mark:\n",
    "    print(\"Oh no!\", name, \"you should have aimed higher\")\n",
    "elif target >= mark:\n",
    "    print(\"Bad\")"
   ]
  },
  {
   "cell_type": "code",
   "execution_count": null,
   "metadata": {},
   "outputs": [],
   "source": [
    "print(\"Good job\", name, \", you managed to get the grade you expected!\")\n",
    "elif mark_grade() != target:\n",
    "    if mark_grade() == \"A\" and target == \"A\":\n",
    "        print(\"Wicked!\")\n",
    "\n",
    "\n",
    "elif target == \"A\":\n",
    "    print(\"Well done!\")\n",
    "elif target == \"B\":\n",
    "    print(\"\"Good job\", name, \", you managed to get the grade you expected!\"\")\n",
    "\n",
    "    if target == \"A\":\n",
    "    print(\"Wicked!\")\n",
    "elif target == \"B\":\n",
    "    print(\"Oh no! You should have aimed higher\")"
   ]
  }
 ]
}