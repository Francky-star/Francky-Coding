{
 "metadata": {
  "language_info": {
   "codemirror_mode": {
    "name": "ipython",
    "version": 3
   },
   "file_extension": ".py",
   "mimetype": "text/x-python",
   "name": "python",
   "nbconvert_exporter": "python",
   "pygments_lexer": "ipython3",
   "version": "3.9.4"
  },
  "orig_nbformat": 2,
  "kernelspec": {
   "name": "python394jvsc74a57bd071ca7bb33420e5af597533d33abfc83a8213e099b977db95951e7907983ff1c1",
   "display_name": "Python 3.9.4 64-bit"
  },
  "metadata": {
   "interpreter": {
    "hash": "71ca7bb33420e5af597533d33abfc83a8213e099b977db95951e7907983ff1c1"
   }
  }
 },
 "nbformat": 4,
 "nbformat_minor": 2,
 "cells": [
  {
   "cell_type": "code",
   "execution_count": 40,
   "metadata": {},
   "outputs": [
    {
     "output_type": "stream",
     "name": "stdout",
     "text": [
      "<_csv.writer object at 0x000001AC99D543B0>\n"
     ]
    }
   ],
   "source": [
    "import csv\n",
    "with open(\"Holiday_Destination.csv\", \"w+\") as file:\n",
    "    writer = csv.writer(file)\n",
    "    writer.writerow(['NUMBER', 'NAME', 'DESTINATION', 'FEEDBACKS', 'STAR RATINGS\\n /10', 'ALL-INCLUSIVES','CITY'])\n",
    "    writer.writerow([1, 'Inn', 'UK', 9, 5, 200, 'London'])\n",
    "    writer.writerow([2, 'Miles', 'Ivory Coast', 7, 4, 99,'Abidjan'])\n",
    "    writer.writerow([3, 'Bal', 'UK', 8, 5, 180, 'Birmingham'])\n",
    "    writer.writerow([4, 'SamSam', 'UK',9, 4, 190, 'Isle Of Wight'])\n",
    "    writer.writerow([5, 'Lunes', 'Ivory Coast', 8, 3, 168, 'Yamoussoukro'])\n",
    "    writer.writerow([6, 'Lustres', 'UK', 9, 4, 100, 'Wolverhampton'])\n",
    "    writer.writerow([7, 'Crepuscule', 'France', 5, 2, 250, 'Paris'])\n",
    "    writer.writerow([8, 'Ciel', 'France', 8, 4, 220, 'Marseille'])\n",
    "    writer.writerow([9, 'Sinai', 'France', 10, 5, 75, 'Lille'])\n",
    "    writer.writerow([10, 'Tides', 'Ivory coast', 5, 2, 55, 'Toumodi'])\n",
    "    writer.writerow([11, 'Vale', 'Spain', 9, 5, 133, 'Madrid'])\n",
    "    writer.writerow([12, 'Lake', 'Spain', 7, 0, 300, 'Barcelona'])\n",
    "    writer.writerow([13, 'Flare', 'Italy', 4, 2, 158, 'Milan'])\n",
    "    writer.writerow([14, 'Gates', 'Ghana', 9, 5, 50, 'Accra'])\n",
    "    writer.writerow([15, 'Pamela', 'Italy', 7, 1, 146, 'Venice'])"
   ]
  },
  {
   "cell_type": "code",
   "execution_count": null,
   "metadata": {},
   "outputs": [],
   "source": []
  }
 ]
}