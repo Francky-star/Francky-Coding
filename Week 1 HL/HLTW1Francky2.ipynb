{
 "metadata": {
  "language_info": {
   "codemirror_mode": {
    "name": "ipython",
    "version": 3
   },
   "file_extension": ".py",
   "mimetype": "text/x-python",
   "name": "python",
   "nbconvert_exporter": "python",
   "pygments_lexer": "ipython3",
   "version": "3.9.4"
  },
  "orig_nbformat": 2,
  "kernelspec": {
   "name": "python394jvsc74a57bd071ca7bb33420e5af597533d33abfc83a8213e099b977db95951e7907983ff1c1",
   "display_name": "Python 3.9.4 64-bit"
  },
  "metadata": {
   "interpreter": {
    "hash": "71ca7bb33420e5af597533d33abfc83a8213e099b977db95951e7907983ff1c1"
   }
  }
 },
 "nbformat": 4,
 "nbformat_minor": 2,
 "cells": [
  {
   "cell_type": "code",
   "execution_count": 7,
   "metadata": {},
   "outputs": [
    {
     "output_type": "stream",
     "name": "stdout",
     "text": [
      "Francky , guess a number between 1 to 1oo and I will tell you a joke based on the number: \nOk, I choose 65\nFrancky , some friend of ours run a yoga retreat, where you can go if you want to get away from yoga.\n"
     ]
    }
   ],
   "source": [
    "name = \"Francky\"\n",
    "import random\n",
    "number = random.randint(1, 100)\n",
    "print(name, \", guess a number between 1 to 1oo and I will tell you a joke based on the number: \")\n",
    "print(\"Ok, I choose\", number)\n",
    "if number < 11:\n",
    "    print(name, \", what's the best way to avoid touching your face?\", \"A glass of wine in each hand!\")\n",
    "elif number < 21:\n",
    "    print(name, \", what should you do if you don't understand a corona virus joke?\", \"Be patient!\")\n",
    "elif number < 31:\n",
    "    print(name, \", you know what they say: feed a cold, starve a fever, drink a corona!\")\n",
    "elif number < 41:\n",
    "    print(name, \", why did't the sick guy get the joke?\", \"it flu over his head!\")\n",
    "elif number < 51:\n",
    "    print(name, \", I run out of toilet paper and I had to start using old newspapers.\", \"The Times are rough!\")\n",
    "elif number < 61:\n",
    "    print(name, \", sorry I was late for geometry class, I got on rhombus.\")\n",
    "elif number < 71:\n",
    "    print(name, \", some friend of ours run a yoga retreat, where you can go if you want to get away from yoga.\")\n",
    "elif number < 81:\n",
    "    print(name, \", no more Suez canal jokes! That ship has sailed.\")\n",
    "elif number < 91:\n",
    "    print(name, \", 2 arials get married. The ceremony was rubbish - but the reception was brilliant!\")\n",
    "elif number < 101:\n",
    "    print(name, \", I'm on a whiskey diet. I've lost 3 days already. \")"
   ]
  },
  {
   "cell_type": "code",
   "execution_count": null,
   "metadata": {},
   "outputs": [],
   "source": []
  }
 ]
}