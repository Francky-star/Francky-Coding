{
 "metadata": {
  "language_info": {
   "codemirror_mode": {
    "name": "ipython",
    "version": 3
   },
   "file_extension": ".py",
   "mimetype": "text/x-python",
   "name": "python",
   "nbconvert_exporter": "python",
   "pygments_lexer": "ipython3",
   "version": "3.9.4"
  },
  "orig_nbformat": 2,
  "kernelspec": {
   "name": "python394jvsc74a57bd071ca7bb33420e5af597533d33abfc83a8213e099b977db95951e7907983ff1c1",
   "display_name": "Python 3.9.4 64-bit"
  },
  "metadata": {
   "interpreter": {
    "hash": "71ca7bb33420e5af597533d33abfc83a8213e099b977db95951e7907983ff1c1"
   }
  }
 },
 "nbformat": 4,
 "nbformat_minor": 2,
 "cells": [
  {
   "cell_type": "code",
   "execution_count": 1,
   "metadata": {},
   "outputs": [
    {
     "output_type": "stream",
     "name": "stdout",
     "text": [
      "Francky\n",
      "10.0\n",
      "1000000.0\n",
      "'a' if you want to add\n",
      "'b' if you want to substract\n",
      "'c' if you want to multiply\n",
      "'d' if you want to divide\n",
      "'e' if you want to the power of\n",
      "You selected 11\n",
      "Invalid! Try again between 'a' and 'e'\n"
     ]
    }
   ],
   "source": [
    "name = print(input(\"Hello, what is your name?\"))\n",
    "number1 = float(input(\"Hi, please choose a number\"))\n",
    "print(number1)\n",
    "number2 = float(input(\"Ok, choose another one\"))\n",
    "print(number2)\n",
    "\n",
    "print(\"'a' if you want to add\")\n",
    "print(\"'b' if you want to substract\")\n",
    "print(\"'c' if you want to multiply\")\n",
    "print(\"'d' if you want to divide\")\n",
    "print(\"'e' if you want to the power of\")\n",
    "\n",
    "menuOption = input(\"Now, please select from 'a' to 'e'\")\n",
    "print(\"You selected\", menuOption)\n",
    "if menuOption == \"a\":\n",
    "    print(\"Great choice! The result is\", (number1 + number2))\n",
    "elif menuOption == \"b\":\n",
    "    print(\"Great choice! The result is\", (number1 - number2))\n",
    "elif menuOption == \"c\":\n",
    "    print(\"Great choice! The result is\", (number1 * number2))\n",
    "elif menuOption == \"d\":\n",
    "    print(\"Great choice! The result is\", (number1 / number2))\n",
    "elif menuOption == \"e\":\n",
    "    print(\"Great choice! The result is\", (number1**number2))\n",
    "else:\n",
    "    print(\"Invalid! Try again between 'a' and 'e'\")"
   ]
  },
  {
   "cell_type": "code",
   "execution_count": null,
   "metadata": {},
   "outputs": [],
   "source": []
  }
 ]
}