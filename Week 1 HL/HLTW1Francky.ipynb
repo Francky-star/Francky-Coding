{
 "metadata": {
  "language_info": {
   "codemirror_mode": {
    "name": "ipython",
    "version": 3
   },
   "file_extension": ".py",
   "mimetype": "text/x-python",
   "name": "python",
   "nbconvert_exporter": "python",
   "pygments_lexer": "ipython3",
   "version": "3.9.4"
  },
  "orig_nbformat": 2,
  "kernelspec": {
   "name": "python394jvsc74a57bd071ca7bb33420e5af597533d33abfc83a8213e099b977db95951e7907983ff1c1",
   "display_name": "Python 3.9.4 64-bit"
  },
  "metadata": {
   "interpreter": {
    "hash": "71ca7bb33420e5af597533d33abfc83a8213e099b977db95951e7907983ff1c1"
   }
  }
 },
 "nbformat": 4,
 "nbformat_minor": 2,
 "cells": [
  {
   "cell_type": "code",
   "execution_count": 2,
   "metadata": {},
   "outputs": [
    {
     "output_type": "stream",
     "name": "stdout",
     "text": [
      "The random number is 8\n"
     ]
    }
   ],
   "source": [
    "import random\n",
    "number = random.randint(1, 10)\n",
    "print(\"The random number is\", number)"
   ]
  },
  {
   "cell_type": "code",
   "execution_count": 1,
   "metadata": {},
   "outputs": [
    {
     "output_type": "execute_result",
     "data": {
      "text/plain": [
       "'Francky'"
      ]
     },
     "metadata": {},
     "execution_count": 1
    }
   ],
   "source": [
    "name = input(\"What is your name?\")\n"
   ]
  },
  {
   "cell_type": "code",
   "execution_count": 24,
   "metadata": {},
   "outputs": [
    {
     "output_type": "stream",
     "name": "stdout",
     "text": [
      "Francky , guess a number between 1 to 10: \nThe number is 5\nIncorrect!\n"
     ]
    }
   ],
   "source": [
    "name = \"Francky\"\n",
    "import random\n",
    "number = random.randint(1, 10)\n",
    "print(name,\", guess a number between 1 to 10: \")\n",
    "print(\"The number is\", number)\n",
    "if number == 8:\n",
    "    print(\"Correct!\")\n",
    "elif number < 8:\n",
    "    print(\"Incorrect!\")\n",
    "elif number > 8:\n",
    "    print(\"Incorrect\")"
   ]
  }
 ]
}