{
 "metadata": {
  "language_info": {
   "codemirror_mode": {
    "name": "ipython",
    "version": 3
   },
   "file_extension": ".py",
   "mimetype": "text/x-python",
   "name": "python",
   "nbconvert_exporter": "python",
   "pygments_lexer": "ipython3",
   "version": "3.9.4"
  },
  "orig_nbformat": 2,
  "kernelspec": {
   "name": "python394jvsc74a57bd071ca7bb33420e5af597533d33abfc83a8213e099b977db95951e7907983ff1c1",
   "display_name": "Python 3.9.4 64-bit"
  },
  "metadata": {
   "interpreter": {
    "hash": "71ca7bb33420e5af597533d33abfc83a8213e099b977db95951e7907983ff1c1"
   }
  }
 },
 "nbformat": 4,
 "nbformat_minor": 2,
 "cells": [
  {
   "cell_type": "code",
   "execution_count": 1,
   "metadata": {},
   "outputs": [
    {
     "output_type": "stream",
     "name": "stdout",
     "text": [
      "hello Francky\n",
      "Francky , your favourite meal is Prawns, pork ribs, mango with a glass of orange juice\n",
      "yay.\n"
     ]
    },
    {
     "output_type": "execute_result",
     "data": {
      "text/plain": [
       "''"
      ]
     },
     "metadata": {},
     "execution_count": 1
    }
   ],
   "source": [
    "name = \"Francky\"\n",
    "\n",
    "print(\"hello\", name)\n",
    "a = input(\"What is your favourite starter?\")\n",
    "b = input(\"Ok, and what is your favourite mains?\")\n",
    "c = input(\"Ok, how about your favourite dessert?\")\n",
    "d = input(\"Fantastic! Now what is your favourite drink?\")\n",
    "e = \", \"\n",
    "\n",
    "print(name, \", your favourite meal is\", a + e + b + e + c, \"with a glass of\", d)\n",
    "print(\"Yay.\")\n",
    "\n",
    "input(\"\\n\\nPress the enter key to exit.\")"
   ]
  },
  {
   "cell_type": "code",
   "execution_count": null,
   "metadata": {},
   "outputs": [],
   "source": []
  }
 ]
}