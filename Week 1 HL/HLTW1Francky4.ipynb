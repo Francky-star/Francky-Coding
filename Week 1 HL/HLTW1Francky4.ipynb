{
 "metadata": {
  "language_info": {
   "codemirror_mode": {
    "name": "ipython",
    "version": 3
   },
   "file_extension": ".py",
   "mimetype": "text/x-python",
   "name": "python",
   "nbconvert_exporter": "python",
   "pygments_lexer": "ipython3",
   "version": "3.9.4"
  },
  "orig_nbformat": 2,
  "kernelspec": {
   "name": "python394jvsc74a57bd071ca7bb33420e5af597533d33abfc83a8213e099b977db95951e7907983ff1c1",
   "display_name": "Python 3.9.4 64-bit"
  },
  "metadata": {
   "interpreter": {
    "hash": "71ca7bb33420e5af597533d33abfc83a8213e099b977db95951e7907983ff1c1"
   }
  }
 },
 "nbformat": 4,
 "nbformat_minor": 2,
 "cells": [
  {
   "cell_type": "code",
   "execution_count": 9,
   "metadata": {},
   "outputs": [
    {
     "output_type": "stream",
     "name": "stdout",
     "text": [
      "2000\n1800.0\n1620.0\n1458.0\n1312.2\n1180.98\n1062.882\n"
     ]
    }
   ],
   "source": [
    "# values are in \"£\"\n",
    "value = 2000\n",
    "while value > 1000:\n",
    "    print(value)\n",
    "    value = value*0.9"
   ]
  },
  {
   "cell_type": "code",
   "execution_count": null,
   "metadata": {},
   "outputs": [],
   "source": []
  }
 ]
}