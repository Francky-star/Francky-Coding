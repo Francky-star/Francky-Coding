{
 "metadata": {
  "language_info": {
   "codemirror_mode": {
    "name": "ipython",
    "version": 3
   },
   "file_extension": ".py",
   "mimetype": "text/x-python",
   "name": "python",
   "nbconvert_exporter": "python",
   "pygments_lexer": "ipython3",
   "version": "3.9.4"
  },
  "orig_nbformat": 2,
  "kernelspec": {
   "name": "python394jvsc74a57bd071ca7bb33420e5af597533d33abfc83a8213e099b977db95951e7907983ff1c1",
   "display_name": "Python 3.9.4 64-bit"
  },
  "metadata": {
   "interpreter": {
    "hash": "71ca7bb33420e5af597533d33abfc83a8213e099b977db95951e7907983ff1c1"
   }
  }
 },
 "nbformat": 4,
 "nbformat_minor": 2,
 "cells": [
  {
   "cell_type": "code",
   "execution_count": 9,
   "metadata": {},
   "outputs": [],
   "source": [
    "def mark_grade(mark):\n",
    "    if mark <= 100:\n",
    "        mark_grade = \"B\"\n",
    "        print(\"B\")\n",
    "    elif mark <= 200:\n",
    "        mark_grade = \"A\"\n",
    "        print(\"A\")\n",
    "    return mark_grade"
   ]
  },
  {
   "cell_type": "code",
   "execution_count": 16,
   "metadata": {},
   "outputs": [
    {
     "output_type": "stream",
     "name": "stdout",
     "text": [
      "Tim\n",
      "195\n",
      "A\n",
      "200\n",
      "Well done! Tim .\n"
     ]
    }
   ],
   "source": [
    "name = input(\"What is your name?\")\n",
    "print(name)\n",
    "mark = int(input(\"what mark did you get?\"))\n",
    "print(mark)\n",
    "grade = mark_grade(mark)\n",
    "target = int(input(\"What was your target mark?\"))\n",
    "print(target)\n",
    "if target == mark:\n",
    "    print(\"Good job\", name, \", you managed to get the grade you expected!\")\n",
    "elif target <= mark:\n",
    "    print(\"Wicked!\", name, \"you actually got more than you expected.\")\n",
    "elif target >= mark:\n",
    "    if target <= 100:\n",
    "        print(\"Oh no!\", name, \"you should have aimed higher.\")\n",
    "    elif target >= 100:\n",
    "        print(\"Well done!\", name,'.')"
   ]
  },
  {
   "cell_type": "code",
   "execution_count": null,
   "metadata": {},
   "outputs": [],
   "source": []
  }
 ]
}