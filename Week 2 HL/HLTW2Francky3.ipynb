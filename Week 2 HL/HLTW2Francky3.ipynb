{
 "metadata": {
  "language_info": {
   "codemirror_mode": {
    "name": "ipython",
    "version": 3
   },
   "file_extension": ".py",
   "mimetype": "text/x-python",
   "name": "python",
   "nbconvert_exporter": "python",
   "pygments_lexer": "ipython3",
   "version": "3.9.4"
  },
  "orig_nbformat": 2,
  "kernelspec": {
   "name": "python394jvsc74a57bd071ca7bb33420e5af597533d33abfc83a8213e099b977db95951e7907983ff1c1",
   "display_name": "Python 3.9.4 64-bit"
  },
  "metadata": {
   "interpreter": {
    "hash": "71ca7bb33420e5af597533d33abfc83a8213e099b977db95951e7907983ff1c1"
   }
  }
 },
 "nbformat": 4,
 "nbformat_minor": 2,
 "cells": [
  {
   "cell_type": "code",
   "execution_count": 16,
   "metadata": {},
   "outputs": [],
   "source": [
    "def calculator():\n",
    "    numb1 = float(input(\"What is your fist number?\"))\n",
    "    print(numb1)\n",
    "    operator = input(\"What operation you to perform?\")\n",
    "    print(operator)\n",
    "    numb2 = float(input(\"What is your second number?\"))\n",
    "    print(numb2)\n",
    "    if operator == \"+\":\n",
    "        print(\"The answer is\", numb1 + numb2)\n",
    "    elif operator == \"-\":\n",
    "        print(\"The answer is\", numb1 - numb2)\n",
    "    elif operator == \"*\":\n",
    "        print(\"The answer is\", numb1 * numb2)\n",
    "    elif operator == \"/\":\n",
    "        print(\"The answer is\", numb1 / numb2)\n",
    "    elif operator == \"**\":\n",
    "        print(\"THe answer is\", numb1**numb2)\n",
    "    else:\n",
    "        print(\"Wrong operator! Try again by changing the operator.\")"
   ]
  },
  {
   "cell_type": "code",
   "execution_count": 18,
   "metadata": {},
   "outputs": [
    {
     "output_type": "stream",
     "name": "stdout",
     "text": [
      "1000.0\n",
      "9\n",
      "500.0\n",
      "Wrong operator! Try again by changing the operator.\n"
     ]
    }
   ],
   "source": [
    "calculator()"
   ]
  }
 ]
}