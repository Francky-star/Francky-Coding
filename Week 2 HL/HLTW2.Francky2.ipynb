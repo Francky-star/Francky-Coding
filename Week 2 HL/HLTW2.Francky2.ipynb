{
 "metadata": {
  "language_info": {
   "codemirror_mode": {
    "name": "ipython",
    "version": 3
   },
   "file_extension": ".py",
   "mimetype": "text/x-python",
   "name": "python",
   "nbconvert_exporter": "python",
   "pygments_lexer": "ipython3",
   "version": "3.9.4"
  },
  "orig_nbformat": 2,
  "kernelspec": {
   "name": "python394jvsc74a57bd071ca7bb33420e5af597533d33abfc83a8213e099b977db95951e7907983ff1c1",
   "display_name": "Python 3.9.4 64-bit"
  },
  "metadata": {
   "interpreter": {
    "hash": "71ca7bb33420e5af597533d33abfc83a8213e099b977db95951e7907983ff1c1"
   }
  }
 },
 "nbformat": 4,
 "nbformat_minor": 2,
 "cells": [
  {
   "cell_type": "code",
   "execution_count": 12,
   "metadata": {},
   "outputs": [],
   "source": [
    "def proce():\n",
    "    value = 2000\n",
    "    while value > 1000:\n",
    "        print(\"The new value is\", value)\n",
    "        value = value*0.90"
   ]
  },
  {
   "cell_type": "code",
   "execution_count": 45,
   "metadata": {},
   "outputs": [
    {
     "output_type": "stream",
     "name": "stdout",
     "text": [
      "The new value is 2000\nThe new value is 1800.0\nThe new value is 1620.0\nThe new value is 1458.0\nThe new value is 1312.2\nThe new value is 1180.98\nThe new value is 1062.882\n"
     ]
    }
   ],
   "source": [
    "proce()"
   ]
  },
  {
   "cell_type": "code",
   "execution_count": null,
   "metadata": {},
   "outputs": [],
   "source": []
  }
 ]
}